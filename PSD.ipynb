{
 "cells": [
  {
   "cell_type": "markdown",
   "metadata": {},
   "source": [
    "# PSD"
   ]
  },
  {
   "cell_type": "code",
   "execution_count": 15,
   "metadata": {},
   "outputs": [],
   "source": [
    "import random\n",
    "import matplotlib.pyplot as plt\n",
    "import numpy as np\n",
    "import math\n",
    "import scipy.interpolate as interpolate\n",
    "from scipy import signal"
   ]
  },
  {
   "cell_type": "markdown",
   "metadata": {},
   "source": [
    "### Physical Parameters"
   ]
  },
  {
   "cell_type": "code",
   "execution_count": 3,
   "metadata": {},
   "outputs": [],
   "source": [
    "# eta * Ma ^2 = 10^-3\n",
    "Ma = math.sqrt(10**(-3))\n",
    "K = 1\n",
    "eta = 1"
   ]
  },
  {
   "cell_type": "markdown",
   "metadata": {},
   "source": [
    "### Functions of Ma"
   ]
  },
  {
   "cell_type": "code",
   "execution_count": 4,
   "metadata": {},
   "outputs": [],
   "source": [
    "meandeltaT = np.pi\n",
    "# variables for generating F2, H, and G1\n",
    "stdF2 = eta * Ma**2\n",
    "limitY2 = eta \n",
    "eqmean = 0"
   ]
  },
  {
   "cell_type": "markdown",
   "metadata": {},
   "source": [
    "### Calculation parameters"
   ]
  },
  {
   "cell_type": "code",
   "execution_count": 5,
   "metadata": {},
   "outputs": [],
   "source": [
    "L = 1\n",
    "M = 10**4\n",
    "N = 1\n",
    "m = 10**2\n",
    "\n",
    "J = 200\n",
    "dTau= 2 * np.pi / J\n",
    "\n",
    "Tr = K * meandeltaT"
   ]
  },
  {
   "cell_type": "markdown",
   "metadata": {},
   "source": [
    "### Initial Conditions"
   ]
  },
  {
   "cell_type": "code",
   "execution_count": 6,
   "metadata": {},
   "outputs": [],
   "source": [
    "y1 = 0\n",
    "t = 0\n",
    "\n",
    "initial_AT = 0\n",
    "initial_dAdT = 0"
   ]
  },
  {
   "cell_type": "markdown",
   "metadata": {},
   "source": [
    "## Functions"
   ]
  },
  {
   "cell_type": "code",
   "execution_count": 10,
   "metadata": {},
   "outputs": [],
   "source": [
    "def fundeltaT(M, dTau):\n",
    "    n_bins = 200\n",
    "    deltaT = []\n",
    "    \n",
    "    # generate a rayleigh distribution from which to pick values for deltaT from\n",
    "    rayleigh = np.random.rayleigh(meandeltaT, M)                           \n",
    "    hist, bin_edges = np.histogram(rayleigh, bins=n_bins, density=True)\n",
    "    cum_values = np.zeros(bin_edges.shape)\n",
    "    cum_values[1:] = np.cumsum(hist*np.diff(bin_edges))\n",
    "    inv_cdf = interpolate.interp1d(cum_values, bin_edges)\n",
    "    \n",
    "    for i in range(M):\n",
    "        # picks a random value from the rayleigh distribution\n",
    "        r = np.random.rand(1)\n",
    "        deltaTtemp = inv_cdf(r)\n",
    "        \n",
    "        # rounds deltaTtemp up or down to be an interger multiple of dTau\n",
    "        if (deltaTtemp % dTau < 0.005):\n",
    "            deltaTtemp2 = deltaTtemp - (deltaTtemp % dTau)\n",
    "        else:\n",
    "            deltaTtemp2 = deltaTtemp + dTau - (deltaTtemp % dTau)\n",
    "            \n",
    "        deltaT.append(deltaTtemp2[0])\n",
    "    return deltaT"
   ]
  },
  {
   "cell_type": "code",
   "execution_count": 11,
   "metadata": {},
   "outputs": [],
   "source": [
    "# generating F2, G1\n",
    "def funF_k(std, limit, deltaT, eqmean, y1):\n",
    "    F_k =[]\n",
    "    \n",
    "    for i in range(len(deltaT) - 1):\n",
    "        \n",
    "        # Tn is halfway through the eddy\n",
    "        Tn = ((deltaT[i] + deltaT[i+1]) / 2)\n",
    "        \n",
    "        stdevt = ((1 - math.exp(-2 * Tn / Tr)) * std ** 2) ** (1/2)\n",
    "        meant = eqmean + math.exp(-Tn / Tr) * (y1 - eqmean)\n",
    "        \n",
    "        # y1 is chosen from markov conditional probability function\n",
    "        y1 = np.random.normal(meant, stdevt, 2)[0]\n",
    "        # loops through each eddy\n",
    "        for j in np.linspace(0, deltaT[i], int(deltaT[i] / dTau)):\n",
    "            x = j / deltaT[i]\n",
    "            if j == deltaT[i]:\n",
    "                pass\n",
    "            else:\n",
    "                F_k.append(16 * y1 * x**2 * (1 - x)**2)\n",
    "        \n",
    "    return F_k"
   ]
  },
  {
   "cell_type": "markdown",
   "metadata": {},
   "source": [
    "## generate PSD"
   ]
  },
  {
   "cell_type": "code",
   "execution_count": 12,
   "metadata": {},
   "outputs": [],
   "source": [
    "deltaT = fundeltaT(M, dTau)\n",
    "F2 = funF_k(stdF2, limitY2, deltaT, eqmean, y1)"
   ]
  },
  {
   "cell_type": "code",
   "execution_count": 28,
   "metadata": {},
   "outputs": [],
   "source": [
    "freq, PSD = signal.periodogram(F2)\n",
    "logPSD = np.log10(PSD)\n",
    "logf = np.log10(freq)"
   ]
  },
  {
   "cell_type": "code",
   "execution_count": 27,
   "metadata": {},
   "outputs": [
    {
     "data": {
      "image/png": "[encoded data removed]",
      "text/plain": [
       "<Figure size 432x288 with 1 Axes>"
      ]
     },
     "metadata": {
      "needs_background": "light"
     },
     "output_type": "display_data"
    }
   ],
   "source": [
    "plt.plot(logf, logPSD)\n",
    "plt.xlabel('log(frequency)')\n",
    "plt.ylabel('log(PSD)')\n",
    "plt.show()"
   ]
  },
  {
   "cell_type": "code",
   "execution_count": null,
   "metadata": {},
   "outputs": [],
   "source": []
  }
 ],
 "metadata": {
  "kernelspec": {
   "display_name": "Python 3",
   "language": "python",
   "name": "python3"
  },
  "language_info": {
   "codemirror_mode": {
    "name": "ipython",
    "version": 3
   },
   "file_extension": ".py",
   "mimetype": "text/x-python",
   "name": "python",
   "nbconvert_exporter": "python",
   "pygments_lexer": "ipython3",
   "version": "3.7.1"
  }
 },
 "nbformat": 4,
 "nbformat_minor": 2
}
