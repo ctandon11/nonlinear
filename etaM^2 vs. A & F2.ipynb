{
 "cells": [
  {
   "cell_type": "code",
   "execution_count": 1,
   "metadata": {},
   "outputs": [
    {
     "data": {
      "text/html": [
       "<style>.container { width:100% !important; }</style>"
      ],
      "text/plain": [
       "<IPython.core.display.HTML object>"
      ]
     },
     "metadata": {},
     "output_type": "display_data"
    }
   ],
   "source": [
    "from IPython.core.display import display, HTML\n",
    "display(HTML(\"<style>.container { width:100% !important; }</style>\"))\n",
    "\n",
    "import sys\n",
    "from astropy.table import Table\n",
    "import numpy as np\n",
    "from math import log\n",
    "import matplotlib.pyplot as plt"
   ]
  },
  {
   "cell_type": "code",
   "execution_count": 6,
   "metadata": {},
   "outputs": [],
   "source": [
    "#deltaTau/pi\n",
    "etaM = [0.0025, 0.005, 0.01, 0.02]\n",
    "\n",
    "F2 = [0.00159, 0.00319, 0.00640, 0.01275]\n",
    "\n",
    "A = [0.02916, 0.03958, 0.04935, 0.06907]\n",
    "\n",
    "N = [1, 1, 1, 1]"
   ]
  },
  {
   "cell_type": "code",
   "execution_count": 7,
   "metadata": {},
   "outputs": [
    {
     "data": {
      "text/html": [
       "<i>Table length=4</i>\n",
       "<table id=\"table140241000678344\" class=\"table-striped table-bordered table-condensed\">\n",
       "<thead><tr><th>$Run$</th><th>$η Μ ^{2}$</th><th>$\\langle F_{2}^{2} \\rangle ^{1/2}$</th><th>$\\langle A^{2} \\rangle$</th><th>$N_{0}$</th></tr></thead>\n",
       "<thead><tr><th>int64</th><th>float64</th><th>float64</th><th>float64</th><th>int64</th></tr></thead>\n",
       "<tr><td>1</td><td>0.0025</td><td>0.00159</td><td>0.02916</td><td>1</td></tr>\n",
       "<tr><td>2</td><td>0.005</td><td>0.00319</td><td>0.03958</td><td>1</td></tr>\n",
       "<tr><td>3</td><td>0.01</td><td>0.0064</td><td>0.04935</td><td>1</td></tr>\n",
       "<tr><td>4</td><td>0.02</td><td>0.01275</td><td>0.06907</td><td>1</td></tr>\n",
       "</table>"
      ],
      "text/plain": [
       "<Table length=4>\n",
       "$Run$ $η Μ ^{2}$ ... $\\langle A^{2} \\rangle$ $N_{0}$\n",
       "int64  float64   ...         float64          int64 \n",
       "----- ---------- ... ----------------------- -------\n",
       "    1     0.0025 ...                 0.02916       1\n",
       "    2      0.005 ...                 0.03958       1\n",
       "    3       0.01 ...                 0.04935       1\n",
       "    4       0.02 ...                 0.06907       1"
      ]
     },
     "execution_count": 7,
     "metadata": {},
     "output_type": "execute_result"
    }
   ],
   "source": [
    "def funlog(list):\n",
    "    loglist = []\n",
    "    for y in list:\n",
    "        loglist.append(log(y,10))\n",
    "    return loglist\n",
    "\n",
    "logF2 = funlog(F2)\n",
    "logA = funlog(A)\n",
    "\n",
    "t = Table([[1,2,3,4], etaM, F2, A, N], \n",
    "          names=('$Run$', '$\\u03B7 \\u039C ^{2}$', r'$\\langle F_{2}^{2} \\rangle ^{1/2}$', r'$\\langle A^{2} \\rangle$', '$N_{0}$'))\n",
    "\n",
    "t"
   ]
  },
  {
   "cell_type": "code",
   "execution_count": 8,
   "metadata": {},
   "outputs": [
    {
     "data": {
      "image/png": "[encoded data removed]",
      "text/plain": [
       "<Figure size 576x288 with 1 Axes>"
      ]
     },
     "metadata": {
      "needs_background": "light"
     },
     "output_type": "display_data"
    }
   ],
   "source": [
    "axis_font = {'size':'20'}\n",
    "\n",
    "plt.figure(figsize=(8,4))\n",
    "plt.scatter(etaM, logA, s = 70, c = 'r', label=r'$log(\\langle A^{2} \\rangle)$')\n",
    "plt.scatter(etaM, logF2, s = 70, c = 'k', label=r'$log(\\langle F_{2}^{2} \\rangle ^{1/2})$')\n",
    "\n",
    "plt.xticks(fontsize=12)\n",
    "plt.yticks(fontsize=12)\n",
    "plt.xlabel('$log(\\u03B7 \\u039C ^{2})$', **axis_font)\n",
    "plt.tight_layout()\n",
    "plt.legend(fontsize = 20)\n",
    "plt.show()"
   ]
  },
  {
   "cell_type": "code",
   "execution_count": null,
   "metadata": {},
   "outputs": [],
   "source": []
  }
 ],
 "metadata": {
  "kernelspec": {
   "display_name": "Python 3",
   "language": "python",
   "name": "python3"
  },
  "language_info": {
   "codemirror_mode": {
    "name": "ipython",
    "version": 3
   },
   "file_extension": ".py",
   "mimetype": "text/x-python",
   "name": "python",
   "nbconvert_exporter": "python",
   "pygments_lexer": "ipython3",
   "version": "3.7.1"
  }
 },
 "nbformat": 4,
 "nbformat_minor": 2
}
